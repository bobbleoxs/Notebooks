{
 "cells": [
  {
   "cell_type": "markdown",
   "metadata": {},
   "source": [
    "## Pandas\n",
    "\n",
    "### 1. Reading Data"
   ]
  },
  {
   "cell_type": "code",
   "execution_count": null,
   "metadata": {},
   "outputs": [],
   "source": [
    "data = pd.read_csv('my_file.csv', \n",
    "                   sep=';', #separate at semi-colon\n",
    "                   encoding = 'latin-1', #encoding latin-1 reads French charactrers\n",
    "                   nrows = 1000, #read the first 1000 rows\n",
    "                   skiprows = [2,5] #remove the 2nd and the 5th rows)"
   ]
  },
  {
   "cell_type": "code",
   "execution_count": null,
   "metadata": {},
   "outputs": [],
   "source": [
    "data.to_csv('my_file.csv', index = None)\n",
    "# index None will write the data as it is, otherwise, you will get additional index in front each row"
   ]
  },
  {
   "cell_type": "markdown",
   "metadata": {},
   "source": [
    "### 2. Selecting Data"
   ]
  },
  {
   "cell_type": "code",
   "execution_count": null,
   "metadata": {},
   "outputs": [],
   "source": [
    "data.loc[8] # print the 8th row\n",
    "data.loc[8,'col_1'] # print the value on 8th row, column 1\n",
    "data.loc[range(4,6)] # print subset from row 4 to 6(excluded)"
   ]
  },
  {
   "cell_type": "markdown",
   "metadata": {},
   "source": [
    "### 3. Logical Operations"
   ]
  },
  {
   "cell_type": "code",
   "execution_count": null,
   "metadata": {},
   "outputs": [],
   "source": [
    "data[data['column_1']=='french']\n",
    "data[(data['column_1']=='french') & (data['year_born']==1990)]\n",
    "data[(data['column_1']=='french') & (data['year_born']==1990) & ~(data['city']=='London')]\n",
    "data[data['column_1'].isin(['french', 'english'])]"
   ]
  },
  {
   "cell_type": "markdown",
   "metadata": {},
   "source": [
    "### 4. Basic Plotting"
   ]
  },
  {
   "cell_type": "code",
   "execution_count": null,
   "metadata": {},
   "outputs": [],
   "source": [
    "data['column_numerical'].plot()\n",
    "data['column_numerical'].hist()"
   ]
  },
  {
   "cell_type": "markdown",
   "metadata": {},
   "source": [
    "### 5. Updating table"
   ]
  },
  {
   "cell_type": "code",
   "execution_count": null,
   "metadata": {},
   "outputs": [],
   "source": [
    "data.loc[8,'col_1'] = 'English'\n",
    "data.loc[data['col_1'] == 'french', 'col_1'] = 'French' #change values of multiple rows in one line"
   ]
  },
  {
   "cell_type": "markdown",
   "metadata": {},
   "source": [
    "                        ~~~ ~~~ ~~~ Outside Excel ~~~ ~~~ ~~~\n",
    "### 6. Counting occurences"
   ]
  },
  {
   "cell_type": "code",
   "execution_count": null,
   "metadata": {},
   "outputs": [],
   "source": [
    "data['col_1'].value_counts()"
   ]
  },
  {
   "cell_type": "markdown",
   "metadata": {},
   "source": [
    "### 7. Broadcasting"
   ]
  },
  {
   "cell_type": "code",
   "execution_count": null,
   "metadata": {},
   "outputs": [],
   "source": [
    "data['col_1'].map(len) # the len() function is applied to each element in col_1\n",
    "\n",
    "data['col_1'].map(len).map(lambda x:x/100).plot() # chaining map and plot\n",
    "\n",
    "data.apply(sum) \n",
    "#.apply() applies a function to columns. Use .apply(, axis=1) to do it on the rows.\n",
    "#.applymap() applies a function to all cells in the table (DataFrame)."
   ]
  },
  {
   "cell_type": "markdown",
   "metadata": {},
   "source": [
    "### 8. tqdm - progression bar"
   ]
  },
  {
   "cell_type": "code",
   "execution_count": null,
   "metadata": {},
   "outputs": [],
   "source": [
    "from tqdm import tqdm_notebook\n",
    "tqdm_notebook().pandas()\n",
    "data['column_1'].progress_map(lambda x: x.count('e'))\n",
    "# Replace .map() by .progress_map(), same for .apply() and .applymap()"
   ]
  },
  {
   "cell_type": "markdown",
   "metadata": {},
   "source": [
    "### 9. Correlations and scatter matrices"
   ]
  },
  {
   "cell_type": "code",
   "execution_count": null,
   "metadata": {},
   "outputs": [],
   "source": [
    "data.corr()\n",
    "data.corr().apply(lambda x: int(x*100)/100)\n",
    "pd.plotting.scatter_matrix(dat, figsize=(12,8))"
   ]
  },
  {
   "cell_type": "markdown",
   "metadata": {},
   "source": [
    "### 10. SQL join"
   ]
  },
  {
   "cell_type": "code",
   "execution_count": null,
   "metadata": {},
   "outputs": [],
   "source": [
    "data.merge(other_data, on = ['col_1', 'col_2','col_3'])"
   ]
  },
  {
   "cell_type": "markdown",
   "metadata": {},
   "source": [
    "### 11. Grouping"
   ]
  },
  {
   "cell_type": "code",
   "execution_count": null,
   "metadata": {},
   "outputs": [],
   "source": [
    "data.groupby('col_1')['col_2'].apply(sum).reset_index().sort_values('col_2', ascending = False)\n",
    "#Group by a column, the select another column on which to operate a function. The .reset_index() reshapes your data as a DataFrame (table)"
   ]
  },
  {
   "cell_type": "markdown",
   "metadata": {},
   "source": [
    "### 12. Iterating over rows"
   ]
  },
  {
   "cell_type": "code",
   "execution_count": null,
   "metadata": {},
   "outputs": [],
   "source": [
    "dictionary = {}\n",
    "for i,row in data.iterrows():\n",
    "    dictionary[row['col_1']] = row['col_2']\n",
    "    print(row['col_1'], row['col_2'])\n",
    "    \n",
    "#The .iterrows() loops through 2 variables together: the index of the row and the row (i and row in the code above)."
   ]
  }
 ],
 "metadata": {
  "kernelspec": {
   "display_name": "Python 3",
   "language": "python",
   "name": "python3"
  },
  "language_info": {
   "codemirror_mode": {
    "name": "ipython",
    "version": 3
   },
   "file_extension": ".py",
   "mimetype": "text/x-python",
   "name": "python",
   "nbconvert_exporter": "python",
   "pygments_lexer": "ipython3",
   "version": "3.7.2"
  }
 },
 "nbformat": 4,
 "nbformat_minor": 2
}
